{
 "cells": [
  {
   "cell_type": "code",
   "execution_count": 1,
   "id": "f2065f76",
   "metadata": {},
   "outputs": [],
   "source": [
    "import os"
   ]
  },
  {
   "cell_type": "code",
   "execution_count": 2,
   "id": "121be6c8",
   "metadata": {},
   "outputs": [
    {
     "data": {
      "text/plain": [
       "'C:\\\\Users\\\\Sujitha\\\\Desktop'"
      ]
     },
     "execution_count": 2,
     "metadata": {},
     "output_type": "execute_result"
    }
   ],
   "source": [
    "os.getcwd()"
   ]
  },
  {
   "cell_type": "code",
   "execution_count": 3,
   "id": "7c305d61",
   "metadata": {},
   "outputs": [],
   "source": [
    "os.chdir('C:\\\\Users\\\\Sujitha\\\\Downloads')"
   ]
  },
  {
   "cell_type": "code",
   "execution_count": 4,
   "id": "9eab800d",
   "metadata": {},
   "outputs": [
    {
     "data": {
      "text/plain": [
       "'C:\\\\Users\\\\Sujitha\\\\Downloads'"
      ]
     },
     "execution_count": 4,
     "metadata": {},
     "output_type": "execute_result"
    }
   ],
   "source": [
    "os.getcwd()"
   ]
  },
  {
   "cell_type": "code",
   "execution_count": 5,
   "id": "97221136",
   "metadata": {},
   "outputs": [],
   "source": [
    "os.chdir('C:\\\\Users\\\\Sujitha\\\\Desktop')"
   ]
  },
  {
   "cell_type": "code",
   "execution_count": 6,
   "id": "7e89f617",
   "metadata": {},
   "outputs": [
    {
     "data": {
      "text/plain": [
       "'C:\\\\Users\\\\Sujitha\\\\Desktop'"
      ]
     },
     "execution_count": 6,
     "metadata": {},
     "output_type": "execute_result"
    }
   ],
   "source": [
    "os.getcwd()"
   ]
  },
  {
   "cell_type": "code",
   "execution_count": 7,
   "id": "4e2d5cfc",
   "metadata": {},
   "outputs": [
    {
     "data": {
      "text/plain": [
       "['.ipynb_checkpoints',\n",
       " '112118054.Resume.docx',\n",
       " 'census.csv',\n",
       " 'desktop.ini',\n",
       " 'ex1data1.txt',\n",
       " 'Grammarly.lnk',\n",
       " 'loanprediction.csv',\n",
       " 'loanprediction.ipynb',\n",
       " 'loanpredictiontrain.csv',\n",
       " 'Machine Learning',\n",
       " 'mathematics for machine learning',\n",
       " 'Microsoft Teams.lnk',\n",
       " 'ontology internship',\n",
       " 'ontology paper.docx',\n",
       " 'ontologyresearch paper.docx',\n",
       " 'OS module python.ipynb',\n",
       " 'Protege.lnk',\n",
       " 'Quanti and Reasoning',\n",
       " 'Resume and Certificates',\n",
       " 'university infos.xlsx',\n",
       " 'Zoom.lnk',\n",
       " '~$ inductions.docx',\n",
       " '~$2118054-Radiation.docx',\n",
       " '~$2118054.Resume.docx',\n",
       " '~$ape memory alloys.docx',\n",
       " '~$tology paper.docx',\n",
       " '~$tologyresearch paper.docx']"
      ]
     },
     "execution_count": 7,
     "metadata": {},
     "output_type": "execute_result"
    }
   ],
   "source": [
    "os.listdir()"
   ]
  },
  {
   "cell_type": "code",
   "execution_count": 18,
   "id": "2d12de79",
   "metadata": {},
   "outputs": [
    {
     "ename": "FileExistsError",
     "evalue": "[WinError 183] Cannot create a file when that file already exists: 'suji'",
     "output_type": "error",
     "traceback": [
      "\u001b[1;31m---------------------------------------------------------------------------\u001b[0m",
      "\u001b[1;31mFileExistsError\u001b[0m                           Traceback (most recent call last)",
      "\u001b[1;32m<ipython-input-18-69374af5422f>\u001b[0m in \u001b[0;36m<module>\u001b[1;34m\u001b[0m\n\u001b[1;32m----> 1\u001b[1;33m \u001b[0mos\u001b[0m\u001b[1;33m.\u001b[0m\u001b[0mmkdir\u001b[0m\u001b[1;33m(\u001b[0m\u001b[1;34m'suji'\u001b[0m\u001b[1;33m)\u001b[0m\u001b[1;31m#make a single directory\u001b[0m\u001b[1;33m\u001b[0m\u001b[1;33m\u001b[0m\u001b[0m\n\u001b[0m",
      "\u001b[1;31mFileExistsError\u001b[0m: [WinError 183] Cannot create a file when that file already exists: 'suji'"
     ]
    }
   ],
   "source": [
    "os.mkdir('suji')#make a single directory"
   ]
  },
  {
   "cell_type": "code",
   "execution_count": 9,
   "id": "4f90bfd0",
   "metadata": {},
   "outputs": [],
   "source": [
    "os.rmdir('suji')#remove a single directory"
   ]
  },
  {
   "cell_type": "code",
   "execution_count": 10,
   "id": "b09b724a",
   "metadata": {},
   "outputs": [],
   "source": [
    "os.makedirs('suji\\sujitha')#make directory and sub directory "
   ]
  },
  {
   "cell_type": "code",
   "execution_count": 11,
   "id": "e4095d38",
   "metadata": {},
   "outputs": [
    {
     "ename": "FileNotFoundError",
     "evalue": "[WinError 2] The system cannot find the file specified: 'suji-sujitha'",
     "output_type": "error",
     "traceback": [
      "\u001b[1;31m---------------------------------------------------------------------------\u001b[0m",
      "\u001b[1;31mFileNotFoundError\u001b[0m                         Traceback (most recent call last)",
      "\u001b[1;32m<ipython-input-11-e4427b4b58a9>\u001b[0m in \u001b[0;36m<module>\u001b[1;34m\u001b[0m\n\u001b[1;32m----> 1\u001b[1;33m \u001b[0mos\u001b[0m\u001b[1;33m.\u001b[0m\u001b[0mrmdir\u001b[0m\u001b[1;33m(\u001b[0m\u001b[1;34m'suji-sujitha'\u001b[0m\u001b[1;33m)\u001b[0m\u001b[1;31m#remove single directory\u001b[0m\u001b[1;33m\u001b[0m\u001b[1;33m\u001b[0m\u001b[0m\n\u001b[0m",
      "\u001b[1;31mFileNotFoundError\u001b[0m: [WinError 2] The system cannot find the file specified: 'suji-sujitha'"
     ]
    }
   ],
   "source": [
    "os.rmdir('suji-sujitha')#remove single directory"
   ]
  },
  {
   "cell_type": "code",
   "execution_count": null,
   "id": "0faedeac",
   "metadata": {},
   "outputs": [],
   "source": [
    "os.removedirs('suji\\sujitha')#remove directory and its sub directories"
   ]
  },
  {
   "cell_type": "code",
   "execution_count": null,
   "id": "7116b486",
   "metadata": {},
   "outputs": [],
   "source": [
    "# to get info about specific direcctory\n",
    "os.stat('Resume and Certificates')"
   ]
  },
  {
   "cell_type": "code",
   "execution_count": 17,
   "id": "9bd3be18",
   "metadata": {},
   "outputs": [
    {
     "name": "stdout",
     "output_type": "stream",
     "text": [
      "C:\\Users\\Sujitha\\Desktop\n",
      "['.ipynb_checkpoints', 'Machine Learning', 'mathematics for machine learning', 'ontology internship', 'Quanti and Reasoning', 'Resume and Certificates', 'suji']\n",
      "['112118054.Resume.docx', 'census.csv', 'desktop.ini', 'ex1data1.txt', 'Grammarly.lnk', 'loanprediction.csv', 'loanprediction.ipynb', 'loanpredictiontrain.csv', 'Microsoft Teams.lnk', 'ontology paper.docx', 'ontologyresearch paper.docx', 'OS module python.ipynb', 'Protege.lnk', 'university infos.xlsx', 'Zoom.lnk', '~$ inductions.docx', '~$2118054-Radiation.docx', '~$2118054.Resume.docx', '~$ape memory alloys.docx', '~$tology paper.docx', '~$tologyresearch paper.docx']\n",
      "C:\\Users\\Sujitha\\Desktop\\.ipynb_checkpoints\n",
      "[]\n",
      "['loanprediction-checkpoint.ipynb', 'OS module python-checkpoint.ipynb']\n",
      "C:\\Users\\Sujitha\\Desktop\\Machine Learning\n",
      "['.ipynb_checkpoints', 'dbms', 'Excel', 'SQL']\n",
      "['2-Aurélien-Géron-Hands-On-Machine-Learning-with-Scikit-Learn-Keras-and-Tensorflow_.pdf', 'Machine learning  professors.xlsx', 'Python-for-Data-Analysis.pdf']\n",
      "C:\\Users\\Sujitha\\Desktop\\Machine Learning\\.ipynb_checkpoints\n",
      "[]\n",
      "['matplotlib basics-checkpoint.ipynb', 'pandas df-checkpoint.ipynb', 'pytorch-checkpoint.ipynb', 'seaborn basics-checkpoint.ipynb', 'Untitled-checkpoint.ipynb']\n",
      "C:\\Users\\Sujitha\\Desktop\\Machine Learning\\dbms\n",
      "[]\n",
      "['class 1 and 2.pptx', 'Class 27 - 12.11.2020.pptx', 'Class 28 ppt.pptx', 'class 29.pptx', 'Class 30- 19_11_2020.pdf', 'Class_03  (03.09.2020) (1).pptx', 'Class_04  (08.09.2020).pptx', 'Class_05  (09.09.2020).pptx', 'Class_06  (10.09.2020) Components of DBMS (1).pptx', 'Class_06  (10.09.2020) Entity – Relationship Model.pptx', 'Class_07  (16.09.2020).pptx', 'Class_08  (17.09.2020).pptx', 'Class_09  (22.09.2020).pptx', 'Class_10 (23.09.2020).pptx', 'Class_11 (24.09.2020).pptx', 'Class_12  (29.09.2020) Aggregate Functions and Null Values.pptx', 'Class_12  (29.09.2020) Nested Sub Queries.pptx', 'Class_13  (30.09.2020).pptx', 'Class_14  (01.10.2020) Joined Relations.pptx', 'Class_15  (06.10.2020) & Class_16  (08.10.2020).pptx', 'Class_16  (08.10.2020) & Class_17  (13.10.2020).pptx', 'Class_17  (13.10.2020) Normal Form.pptx', 'Class_18 [15.10.20].pptx', 'Class_19.pdf', 'Class_20.pdf', 'Class_21_(27.10.20).pptx', 'CLASS_22_29.10.pptx', 'Class_23 (04.11.2020).pptx', 'Class_24  (05.11.2020) Deadlocks.pptx', 'Class_25  (09.11.2020) & Class_26  (11.11.2020) Database Recovery Management.pptx']\n",
      "C:\\Users\\Sujitha\\Desktop\\Machine Learning\\Excel\n",
      "['Dashboard _ edX_files']\n",
      "['Dashboard _ edX.html']\n",
      "C:\\Users\\Sujitha\\Desktop\\Machine Learning\\Excel\\Dashboard _ edX_files\n",
      "[]\n",
      "['1601661033380488', '1743970571.js.download', '1beac94c95', '4982103.js(1).download', '4982103.js(2).download', '4982103.js.download', '6798.js.download', 'a1706490390.html', 'analytics.js.download', 'analytics.min.js.download', 'app_store_badge_135x40.d0558d910630.svg', 'asset-v1_DelftX+AEASM1x+1T2019+type@thumbnail+block@course_image-375x200.jpg', 'asset-v1_DelftX+AEASM1x+1T2020+type@thumbnail+block@course_image-375x200.jpg', 'asset-v1_HarvardX+CS50+AP+type@thumbnail+block@course_image-375x200.jpg', 'asset-v1_HarvardX+CS50+X+type@thumbnail+block@course_image-375x200.jpg', 'asset-v1_HarvardX+CS50M+Mobile+type@thumbnail+block@course_image-375x200.jpg', 'asset-v1_RITx+Data102x+3T2020+type@thumbnail+block@course_image-375x200.jpg', 'asset-v1_UC3Mx+BIA.1x+3T2019+type@thumbnail+block@course_image-375x200.jpg', 'branch-latest.min.js.download', 'commons.4d75233c2f2c5c5c003e.234e630707e2.js.download', 'CookiePolicyBanner.4bf58b51788f831aefbe.eac34575d852.js.download', 'course_sharing_events.83623dc5b909.js.download', 'course_sharing_events.js.download', 'credit.e4a82bfe5f09.js.download', 'dashboard.e09d866f7ce7.js.download', 'dateutil_factory.be68acdff619.js.download', 'default_50.76570a4d025e.png', 'demographics-collection.b4371d8ef7f3.js.download', 'djangojs.2623d59dd64d.js.download', 'dj_.js.download', 'dj_qoo.js.download', 'EntitlementUnenrollmentFactory.fd9a9722cc6b395c5c0c.4e70a29af22d.js.download', 'f(1).txt', 'f(2).txt', 'f(3).txt', 'f.txt', 'fb.js.download', 'fbevents.js.download', 'frame.html', 'google_play_badge_45.6ea466e328da.png', 'gtm.js.download', 'header.309a1243e175.js.download', 'ie11_find_array.bd1c6dc7a133.js.download', 'insight.beta.min.js.download', 'insight.min.js.download', 'jquery_extend_patch.54dddef28d15.js.download', 'js', 'js(1)', 'js(2)', 'linkid.js.download', 'lms-base-application.2062f84b79fa.js.download', 'lms-base-vendor.188b06b0a06d.js.download', 'lms-footer-edx.140901f6f95d.css', 'lms-main-v1.322e5453ba61.css', 'lms-style-vendor.a44d8153e6e2.css', 'logo-footer.fde85fe42f6b.png', 'logo.790c9a5340cb.png', 'message_banner.91290dbe25ba.js.download', 'navigation.08930e16ab3d.js.download', 'noreferrer.aa62a3e70ffa.js.download', 'nr-1184.min.js.download', 'paragon.min.2af844f58449.css', 'ReactRenderer.f7bc94a42654a25264f7.765ff0fc3b1c.js.download', 'require-config.38226099c6ad.js.download', 'track_ecommerce_events.0a92c313c996.js.download', 'track_ecommerce_events.js.download', 'UnenrollmentFactory.a1523f3df2263322cd9f.f0966004e439.js.download']\n",
      "C:\\Users\\Sujitha\\Desktop\\Machine Learning\\SQL\n",
      "['Intro to SQL_ Querying and managing data _ Khan Academy_files', 'SQL Server tutorial for beginners - YouTube_files']\n",
      "['Intro to SQL_ Querying and managing data _ Khan Academy.html', 'SQL Server tutorial for beginners - YouTube.html']\n",
      "C:\\Users\\Sujitha\\Desktop\\Machine Learning\\SQL\\Intro to SQL_ Querying and managing data _ Khan Academy_files\n",
      "[]\n",
      "['00f8016185ae781413e66158eab4e8d9.b310e1aa26d984ab4d83.js.download', '090412e9f27fdef9e61744a58d1cc94a.a3c2f116675daae37714.js.download', '0b039feff33f8e65891c082ff88ea130.2b26e2d8999a36cde80b.js.download', '0b28f4f33bffd586d20cc87d96f8b279.a4a8fd2c456dd6210a1d.js.download', '0b28f4f33bffd586d20cc87d96f8b279.b6740250f77e1ba5734f.css', '0d34bf12fb76c572651ecbab32690524.f02e84e95b8529b99e74.js.download', '0fe9f74585b9007fc1c0cfd44543713c.918af7b4801920c4ec78.js.download', '120b50f449bf86f401308d1f54e870f3.d60352eb77045c125102.js.download', '13f8f96100ff84d977aecf0924c51071.a80bd3ec74ca0b227522.js.download', '1d98b6a9fc42d53264bd3fb2b545faa5.a02daeb2c459c1cea95f.js.download', '1db38be75b2368b13f6ca9418c418553.b92a7b644f77b14930a2.js.download', '202ffdaf65bb3b99881b549c4a77dff1.f4f90cdc86f1cec97479.js.download', '20b496c49e4472d13b8334b604cb38f3.adb275144e29316db41c.js.download', '21e1cb0452119349880a493f5d1e6147.a857d32fc6baeca7ba26.js.download', '246618b2fb0cda9f132c46b9925c444b.6047a070b38b44929ef6.js.download', '2f32ed5f53704ee2565592b17d10b31d.9aa05dd23938410ab092.js.download', '3137d0d06ea8ef65b3dbd71bed1d65ff.082d754913da3bf347d5.js.download', '326c71b53d46dcf9ce187853ae2bbcf4.0ec63d37452ca6acda5a.js.download', '3d19ef037c386158c35657cb539e3332.69b9c739661f378db55f.js.download', '3fa99068de23e9956e10785c83deca6d.518069f2b1ea7e2e3cac.js.download', '4ba8233bb8dd0445df507632d4a684e6.bbbe490d9638f868c3ba.js.download', '541aad73fd19fc9d4a1fe4cab86576ca.11dc005e8610fc342f90.js.download', '5da69311e52e1a4cf1c8faa5e0f2182a.96098af3d6f5902285d6.js.download', '5dc483ebc775f7b2c5413e87e2833713.c3bd6af0083a9177a241.js.download', '6268a1438d831f0c24f5435a9d80cbcd.0febc6f4a318f52cc598.js.download', '6a3fa5d0e3e1ade7fafabbb88d4d7042.a0340bbcd2598c4e87ed.js.download', '6d15734cb91894dcd364278e85c3b853.fe309d944c3c9cd270cc.js.download', '6d53725cc1eae5da84fd1e2b1f4b1f1e.f38e24f38ea3c356e12e.js.download', '78a58ce89e388f82acc5a29c62168a45.038ba622210f087afbf5.js.download', '78e36e613fcb0711361408377836cb5a.b8ed87376b85a831cf8a.js.download', '7922cb669b21b6b7575b0cc877a9f00f.bac2cb6cd171e023f10a.js.download', '7a03973dd28a0a6118d211020716d4ee.ebb20efb5cf6b0d2b0dc.js.download', '7b6b932f3a23c5cac398a7208d4fa9da.6f5dd0dd5a2170be3ab6.js.download', '7eee3138f2bbd6e5ab31c48e9ba024c9.a5e646254dc8de6b6823.js.download', '8064749c6474ad2654fc4dbc063cd530.1fc2fa066a7ac3e85586.js.download', '8466e70e5174ab4d5717aac954b07ff0.6b1c2653fed2f606e75d.js.download', '8500289e1c255e1f0c7a296727f6d240.363aa8213938f82fd53e.js.download', '875f0d644ab369028394d58d220ee06f.5df3493dc100cfef5e10.js.download', '8d7232af85394a26e0ab6c00da9e84ba.bc43eaf6967af2db3290.js.download', '9c3488cb5e3732a69f5a9827924941d5.77bf5b0cd95a4616fdde.js.download', 'a379dbee4e5dfceb0930ace0a98be563.175e446021dbb32f8db7.js.download', 'a86ce9e1ef373de4d2a1ad309834c528.2be7ff9a9d4367f33a6a.js.download', 'about-p_73728184.715ad7dc0273f7bb2ed7.js.download', 'ae6fcf73a7ffb61f86391900274b573c.43c8cd0a468fc9a83cf1.js.download', 'analytics.js.download', 'app-entry.a436ca4ae7fb466561a1.js.download', 'b2958626158a80537f443350317f121b.50e45d0d93cd6fb363ed.js.download', 'b309add77840aee5f275ce450a3e17ae.e3e4233497bb6e48d6ce.js.download', 'b45d75f95aaa5af6a0175ae5692ae1c9.74636a226c36cf1d8c08.js.download', 'b463d1b36bc03e01e098b0025c19db16.ca37b485657fe11f1de5.js.download', 'b5197d29481962b4afd67dcb8c2bf5f3.b7f80603419443786b1e.js.download', 'b5e4eb20f666c9633e4670bfbbd78e62.7cc376c66afcd61666c6.js.download', 'bH0qoo.js.download', 'bibliotron.f7c39b6c618159625daf.js.download', 'brazil-flag.png', 'c129560ee926394a7f3acae7517fa239.4b98f665fa12ac1e35cd.js.download', 'c17e360b5fb235360ee4e43595add433.2c44b8214b8c8642173c.js.download', 'cb4cd6918c3cd0f582cf07407418f185.0da40c79af8616f61646.js.download', 'corelibs-legacy.3b478ffcb00a1e97c3a7.js.download', 'corelibs.428d4222b150e5f1c27c.js.download', 'd1ace8bff5da0cf37d4d37850b6e3ba8.ff84fe394a8651da1741.js.download', 'd2b510a52740e9565335ffb74418a12e.29737d422a9b087aa7a9.js.download', 'd82bb919bf587dbc56e367de5f5928dc.3cced8c3eec966910d84.js.download', 'db57c62ad4591639c4cc7623f02f750f.d702a062e146593b58a0.js.download', 'dcb381b02fd33eb3aa7048c1375a8b5a.44e4e34a4e196502cafc.js.download', 'deef5ba92f6d82168e4b25e14c915394.c4dd94a61855542d6462.js.download', 'e60a1775e2419faf5a23f8bb4ac8d007.1faae861baff368dabc0.js.download', 'e60cccc4db8191ee403aa59bad69e12d.8b5c3e02e51ce47497a5.js.download', 'e60f8ba46d780a1df403cf97b3e1c45e.8795e8b8f28ef2cd0595.js.download', 'e80d52f6081ce92560805c132336094e.4d8a8984f939cca0acc5.js.download', 'e80d52f6081ce92560805c132336094e.8ee47b0c3871f3a37569.css', 'e998fe2ded6d0b3626dd430891cc0f28.0e052c04a8670cc011c2.js.download', 'f073b6a96a1bf7ab796418cb12338596.0fd38ee358d6141b782b.js.download', 'f40ff63ef8516dae8587f211961bac5d.10346fa5ea2aac023a15.js.download', 'f410d2a7105edf24ee2a217deb2a5bbd.7a785da4f822b5318fdf.js.download', 'f6a205bfea3133a84f9a59cf84c0eac4.30f88b79fbf97a4482f3.js.download', 'f880658d8f5ee1baed51913a06522ab7.04f4d3de989d7454e5a3.js.download', 'fdf7638baf9ed54b83da98a592fbe507.8698bb16b6e44afb9b9d.js.download', 'fffaa162ff496b2a8231cebadac2a32d.d14c9a122de80190cc5c.js.download', 'frame.html', 'gtm.js.download', 'header-entry.97f763638147150b16be.js.download', 'india-flag.png', 'javascript_241cdf7f.815e8fd3befd7cade870.js.download', 'mexico-flag.png', 'react-components.defce15ae1d2465ba687.js.download', 'runtime.a9dc3b3b6f943f3114e5.js.download', 'sat-mission-entry.a1f44bf710a9359d9d1e.js.download', 'shared-components.c4c78d67777408930067.js.download', 'shared-intl.f47e7674e05441c39c20.js.download', 'shared-minimal.826f69ddc3743768e75d.js.download', 'shared-minimal.8bfdebefaeec3e0e48dc.css', 'shared.79bcc40d6c16445a8a79.js.download', 'us-flag.png', 'wonder-blocks.ae796c054824e7667243.js.download', '_190db3c3.c489c58145a9f783f3a7.js.download']\n",
      "C:\\Users\\Sujitha\\Desktop\\Machine Learning\\SQL\\SQL Server tutorial for beginners - YouTube_files\n",
      "[]\n",
      "['annotations_module.js.download', 'base.js.download', 'captions.js.download', 'css', 'css(1)', 'css(2)', 'custom-elements-es5-adapter.js.download', 'desktop_polymer_inlined_html_polymer_flags.js.download', 'endscreen.js.download', 'hqdefault(1).jpg', 'hqdefault(10).jpg', 'hqdefault(100).jpg', 'hqdefault(101).jpg', 'hqdefault(102).jpg', 'hqdefault(103).jpg', 'hqdefault(104).jpg', 'hqdefault(105).jpg', 'hqdefault(106).jpg', 'hqdefault(107).jpg', 'hqdefault(108).jpg', 'hqdefault(109).jpg', 'hqdefault(11).jpg', 'hqdefault(110).jpg', 'hqdefault(12).jpg', 'hqdefault(13).jpg', 'hqdefault(14).jpg', 'hqdefault(15).jpg', 'hqdefault(16).jpg', 'hqdefault(17).jpg', 'hqdefault(18).jpg', 'hqdefault(19).jpg', 'hqdefault(2).jpg', 'hqdefault(20).jpg', 'hqdefault(21).jpg', 'hqdefault(22).jpg', 'hqdefault(23).jpg', 'hqdefault(24).jpg', 'hqdefault(25).jpg', 'hqdefault(26).jpg', 'hqdefault(27).jpg', 'hqdefault(28).jpg', 'hqdefault(29).jpg', 'hqdefault(3).jpg', 'hqdefault(30).jpg', 'hqdefault(31).jpg', 'hqdefault(32).jpg', 'hqdefault(33).jpg', 'hqdefault(34).jpg', 'hqdefault(35).jpg', 'hqdefault(36).jpg', 'hqdefault(37).jpg', 'hqdefault(38).jpg', 'hqdefault(39).jpg', 'hqdefault(4).jpg', 'hqdefault(40).jpg', 'hqdefault(41).jpg', 'hqdefault(42).jpg', 'hqdefault(43).jpg', 'hqdefault(44).jpg', 'hqdefault(45).jpg', 'hqdefault(46).jpg', 'hqdefault(47).jpg', 'hqdefault(48).jpg', 'hqdefault(49).jpg', 'hqdefault(5).jpg', 'hqdefault(50).jpg', 'hqdefault(51).jpg', 'hqdefault(52).jpg', 'hqdefault(53).jpg', 'hqdefault(54).jpg', 'hqdefault(55).jpg', 'hqdefault(56).jpg', 'hqdefault(57).jpg', 'hqdefault(58).jpg', 'hqdefault(59).jpg', 'hqdefault(6).jpg', 'hqdefault(60).jpg', 'hqdefault(61).jpg', 'hqdefault(62).jpg', 'hqdefault(63).jpg', 'hqdefault(64).jpg', 'hqdefault(65).jpg', 'hqdefault(66).jpg', 'hqdefault(67).jpg', 'hqdefault(68).jpg', 'hqdefault(69).jpg', 'hqdefault(7).jpg', 'hqdefault(70).jpg', 'hqdefault(71).jpg', 'hqdefault(72).jpg', 'hqdefault(73).jpg', 'hqdefault(74).jpg', 'hqdefault(75).jpg', 'hqdefault(76).jpg', 'hqdefault(77).jpg', 'hqdefault(78).jpg', 'hqdefault(79).jpg', 'hqdefault(8).jpg', 'hqdefault(80).jpg', 'hqdefault(81).jpg', 'hqdefault(82).jpg', 'hqdefault(83).jpg', 'hqdefault(84).jpg', 'hqdefault(85).jpg', 'hqdefault(86).jpg', 'hqdefault(87).jpg', 'hqdefault(88).jpg', 'hqdefault(89).jpg', 'hqdefault(9).jpg', 'hqdefault(90).jpg', 'hqdefault(91).jpg', 'hqdefault(92).jpg', 'hqdefault(93).jpg', 'hqdefault(94).jpg', 'hqdefault(95).jpg', 'hqdefault(96).jpg', 'hqdefault(97).jpg', 'hqdefault(98).jpg', 'hqdefault(99).jpg', 'hqdefault.jpg', 'miniplayer.js.download', 'network.js.download', 'remote.js.download', 'saved_resource.html', 'scheduler.js.download', 'spf.js.download', 'unnamed(1).jpg', 'unnamed(2).jpg', 'unnamed(3).jpg', 'unnamed(4).jpg', 'unnamed(5).jpg', 'unnamed(6).jpg', 'unnamed(7).jpg', 'unnamed(8).jpg', 'unnamed(9).jpg', 'unnamed.jpg', 'web-animations-next-lite.min.js.download', 'webcomponents-sd.js.download', 'www-i18n-constants.js.download', 'www-main-desktop-watch-page-skeleton-2x-webp-vflbaEfNA.css', 'www-onepick-2x-webp.css', 'www-player-2x-webp.css', 'www-tampering.js.download']\n",
      "C:\\Users\\Sujitha\\Desktop\\mathematics for machine learning\n",
      "[]\n",
      "[]\n",
      "C:\\Users\\Sujitha\\Desktop\\ontology internship\n",
      "[]\n",
      "['catalog-v001.xml', 'extractivemetallurgy_ontology.owl', 'ontology paper.docx']\n",
      "C:\\Users\\Sujitha\\Desktop\\Quanti and Reasoning\n",
      "[]\n",
      "['100 shortcuts to QA.pdf', 'Arun Sharma - LR.pdf', 'Arun Sharma - QA.pdf', 'Arun Sharma - Verbal.pdf', 'CPC Schedule 2021.pdf', 'Diagonstic CPC.pdf', 'SW-DSA-Important Questions (2).pdf']\n",
      "C:\\Users\\Sujitha\\Desktop\\Resume and Certificates\n",
      "['certificates and IDs', 'RESUME']\n",
      "[]\n",
      "C:\\Users\\Sujitha\\Desktop\\Resume and Certificates\\certificates and IDs\n",
      "[]\n",
      "['10th certificate.pdf', '12th certificate.jpg', 'aadhar card pdf.pdf', 'college Id.pdf', 'community certificate.jpg', 'Driving licence.pdf', 'Family card.jpg', 'father aadhar card.jpg', 'income certificate 25.9.2020.pdf', 'my photo.jpeg', 'my signature.jpeg', 'Transfer certificate.pdf', 'voter Id.pdf']\n",
      "C:\\Users\\Sujitha\\Desktop\\Resume and Certificates\\RESUME\n",
      "[]\n",
      "['112118054.docx', '112118054.pdf', 'Resume Guidelines.pdf', 'Resume.NITT.docx', 'Resume.NITT.pdf', '~$2118054.docx']\n",
      "C:\\Users\\Sujitha\\Desktop\\suji\n",
      "['sujitha']\n",
      "[]\n",
      "C:\\Users\\Sujitha\\Desktop\\suji\\sujitha\n",
      "[]\n",
      "[]\n"
     ]
    }
   ],
   "source": [
    "for x,y,z in os.walk(os.getcwd()):\n",
    "    print(x)\n",
    "    print(y)\n",
    "    print(z)\n",
    "\n",
    "    "
   ]
  },
  {
   "cell_type": "code",
   "execution_count": 16,
   "id": "325dc082",
   "metadata": {},
   "outputs": [
    {
     "data": {
      "text/plain": [
       "environ{'ALLUSERSPROFILE': 'C:\\\\ProgramData',\n",
       "        'APPDATA': 'C:\\\\Users\\\\Sujitha\\\\AppData\\\\Roaming',\n",
       "        'COMMONPROGRAMFILES': 'C:\\\\Program Files\\\\Common Files',\n",
       "        'COMMONPROGRAMFILES(X86)': 'C:\\\\Program Files (x86)\\\\Common Files',\n",
       "        'COMMONPROGRAMW6432': 'C:\\\\Program Files\\\\Common Files',\n",
       "        'COMPUTERNAME': 'DESKTOP-A23QLGM',\n",
       "        'COMSPEC': 'C:\\\\Windows\\\\system32\\\\cmd.exe',\n",
       "        'CONDA_DEFAULT_ENV': 'base',\n",
       "        'CONDA_EXE': 'C:\\\\Users\\\\Sujitha\\\\anaconda3\\\\Scripts\\\\conda.exe',\n",
       "        'CONDA_PROMPT_MODIFIER': '(base) ',\n",
       "        'CONDA_PYTHON_EXE': 'C:\\\\Users\\\\Sujitha\\\\anaconda3\\\\python.exe',\n",
       "        'CONDA_ROOT': 'C:\\\\Users\\\\Sujitha\\\\anaconda3',\n",
       "        'CONDA_SHLVL': '1',\n",
       "        'DRIVERDATA': 'C:\\\\Windows\\\\System32\\\\Drivers\\\\DriverData',\n",
       "        'HOMEDRIVE': 'C:',\n",
       "        'HOMEPATH': '\\\\Users\\\\Sujitha',\n",
       "        'LOCALAPPDATA': 'C:\\\\Users\\\\Sujitha\\\\AppData\\\\Local',\n",
       "        'LOGONSERVER': '\\\\\\\\DESKTOP-A23QLGM',\n",
       "        'MOZ_PLUGIN_PATH': 'C:\\\\Program Files (x86)\\\\Foxit Software\\\\Foxit Reader\\\\plugins\\\\',\n",
       "        'NUMBER_OF_PROCESSORS': '4',\n",
       "        'ONEDRIVE': 'C:\\\\Users\\\\Sujitha\\\\OneDrive',\n",
       "        'ONEDRIVECONSUMER': 'C:\\\\Users\\\\Sujitha\\\\OneDrive',\n",
       "        'OS': 'Windows_NT',\n",
       "        'PATH': 'C:\\\\Users\\\\Sujitha\\\\anaconda3;C:\\\\Users\\\\Sujitha\\\\anaconda3\\\\Library\\\\mingw-w64\\\\bin;C:\\\\Users\\\\Sujitha\\\\anaconda3\\\\Library\\\\usr\\\\bin;C:\\\\Users\\\\Sujitha\\\\anaconda3\\\\Library\\\\bin;C:\\\\Users\\\\Sujitha\\\\anaconda3\\\\Scripts;C:\\\\Users\\\\Sujitha\\\\anaconda3\\\\bin;C:\\\\Users\\\\Sujitha\\\\anaconda3\\\\condabin;C:\\\\Users\\\\Sujitha\\\\anaconda3;C:\\\\Users\\\\Sujitha\\\\anaconda3\\\\Library\\\\mingw-w64\\\\bin;C:\\\\Users\\\\Sujitha\\\\anaconda3\\\\Library\\\\usr\\\\bin;C:\\\\Users\\\\Sujitha\\\\anaconda3\\\\Library\\\\bin;C:\\\\Users\\\\Sujitha\\\\anaconda3\\\\Scripts;C:\\\\Windows\\\\system32;C:\\\\Windows;C:\\\\Windows\\\\System32\\\\Wbem;C:\\\\Windows\\\\System32\\\\WindowsPowerShell\\\\v1.0;C:\\\\Windows\\\\System32\\\\OpenSSH;C:\\\\Users\\\\Sujitha\\\\anaconda3;C:\\\\Users\\\\Sujitha\\\\anaconda3\\\\Library\\\\mingw-w64\\\\bin;C:\\\\Users\\\\Sujitha\\\\anaconda3\\\\Library\\\\usr\\\\bin;C:\\\\Users\\\\Sujitha\\\\anaconda3\\\\Library\\\\bin;C:\\\\Users\\\\Sujitha\\\\anaconda3\\\\Scripts;C:\\\\Users\\\\Sujitha\\\\AppData\\\\Local\\\\Microsoft\\\\WindowsApps;C:\\\\Program Files\\\\JetBrains\\\\PyCharm Community Edition 2021.1.1\\\\bin;.',\n",
       "        'PATHEXT': '.COM;.EXE;.BAT;.CMD;.VBS;.VBE;.JS;.JSE;.WSF;.WSH;.MSC',\n",
       "        'PROCESSOR_ARCHITECTURE': 'AMD64',\n",
       "        'PROCESSOR_IDENTIFIER': 'Intel64 Family 6 Model 142 Stepping 9, GenuineIntel',\n",
       "        'PROCESSOR_LEVEL': '6',\n",
       "        'PROCESSOR_REVISION': '8e09',\n",
       "        'PROGRAMDATA': 'C:\\\\ProgramData',\n",
       "        'PROGRAMFILES': 'C:\\\\Program Files',\n",
       "        'PROGRAMFILES(X86)': 'C:\\\\Program Files (x86)',\n",
       "        'PROGRAMW6432': 'C:\\\\Program Files',\n",
       "        'PROMPT': '(base) $P$G',\n",
       "        'PSMODULEPATH': 'C:\\\\Program Files\\\\WindowsPowerShell\\\\Modules;C:\\\\Windows\\\\system32\\\\WindowsPowerShell\\\\v1.0\\\\Modules',\n",
       "        'PUBLIC': 'C:\\\\Users\\\\Public',\n",
       "        'PYCHARM COMMUNITY EDITION': 'C:\\\\Program Files\\\\JetBrains\\\\PyCharm Community Edition 2021.1.1\\\\bin;',\n",
       "        'SESSIONNAME': 'Console',\n",
       "        'SYSTEMDRIVE': 'C:',\n",
       "        'SYSTEMROOT': 'C:\\\\Windows',\n",
       "        'TEMP': 'C:\\\\Users\\\\Sujitha\\\\AppData\\\\Local\\\\Temp',\n",
       "        'TMP': 'C:\\\\Users\\\\Sujitha\\\\AppData\\\\Local\\\\Temp',\n",
       "        'USERDOMAIN': 'DESKTOP-A23QLGM',\n",
       "        'USERDOMAIN_ROAMINGPROFILE': 'DESKTOP-A23QLGM',\n",
       "        'USERNAME': 'Sujitha',\n",
       "        'USERPROFILE': 'C:\\\\Users\\\\Sujitha',\n",
       "        'WINDIR': 'C:\\\\Windows',\n",
       "        'CONDA_PREFIX': 'C:\\\\Users\\\\Sujitha\\\\anaconda3',\n",
       "        'JPY_INTERRUPT_EVENT': '2624',\n",
       "        'IPY_INTERRUPT_EVENT': '2624',\n",
       "        'JPY_PARENT_PID': '2556',\n",
       "        'TERM': 'xterm-color',\n",
       "        'CLICOLOR': '1',\n",
       "        'PAGER': 'cat',\n",
       "        'GIT_PAGER': 'cat',\n",
       "        'MPLBACKEND': 'module://ipykernel.pylab.backend_inline'}"
      ]
     },
     "execution_count": 16,
     "metadata": {},
     "output_type": "execute_result"
    }
   ],
   "source": [
    "os.environ#getting all the paths"
   ]
  },
  {
   "cell_type": "code",
   "execution_count": null,
   "id": "c6dd84bd",
   "metadata": {},
   "outputs": [],
   "source": [
    "##PATH MODULE"
   ]
  },
  {
   "cell_type": "code",
   "execution_count": 15,
   "id": "728e4373",
   "metadata": {},
   "outputs": [
    {
     "data": {
      "text/plain": [
       "'Desktop\\\\suji'"
      ]
     },
     "execution_count": 15,
     "metadata": {},
     "output_type": "execute_result"
    }
   ],
   "source": [
    "os.path.join('Desktop','suji')#to join paths"
   ]
  },
  {
   "cell_type": "code",
   "execution_count": 14,
   "id": "3834d0d1",
   "metadata": {},
   "outputs": [
    {
     "data": {
      "text/plain": [
       "'Desktop'"
      ]
     },
     "execution_count": 14,
     "metadata": {},
     "output_type": "execute_result"
    }
   ],
   "source": [
    "#to know basename and dir name\n",
    "os.path.basename(os.getcwd())"
   ]
  },
  {
   "cell_type": "code",
   "execution_count": 13,
   "id": "5eb79106",
   "metadata": {},
   "outputs": [
    {
     "data": {
      "text/plain": [
       "'C:\\\\Users\\\\Sujitha'"
      ]
     },
     "execution_count": 13,
     "metadata": {},
     "output_type": "execute_result"
    }
   ],
   "source": [
    "os.path.dirname(os.getcwd())"
   ]
  },
  {
   "cell_type": "code",
   "execution_count": 12,
   "id": "d077747f",
   "metadata": {},
   "outputs": [
    {
     "data": {
      "text/plain": [
       "('C:\\\\Users\\\\Sujitha', 'Desktop')"
      ]
     },
     "execution_count": 12,
     "metadata": {},
     "output_type": "execute_result"
    }
   ],
   "source": [
    "os.path.split(os.getcwd())#(dirname,basename)"
   ]
  },
  {
   "cell_type": "code",
   "execution_count": 19,
   "id": "2125d7a2",
   "metadata": {},
   "outputs": [],
   "source": [
    "import sys"
   ]
  },
  {
   "cell_type": "code",
   "execution_count": 21,
   "id": "ecfdf773",
   "metadata": {},
   "outputs": [
    {
     "data": {
      "text/plain": [
       "['C:\\\\Users\\\\Sujitha\\\\anaconda3\\\\lib\\\\site-packages\\\\ipykernel_launcher.py',\n",
       " '-f',\n",
       " 'C:\\\\Users\\\\Sujitha\\\\AppData\\\\Roaming\\\\jupyter\\\\runtime\\\\kernel-8c32032d-7aa5-42a9-bce0-b46cc1879ce7.json']"
      ]
     },
     "execution_count": 21,
     "metadata": {},
     "output_type": "execute_result"
    }
   ],
   "source": [
    "sys.argv"
   ]
  }
 ],
 "metadata": {
  "kernelspec": {
   "display_name": "Python 3",
   "language": "python",
   "name": "python3"
  },
  "language_info": {
   "codemirror_mode": {
    "name": "ipython",
    "version": 3
   },
   "file_extension": ".py",
   "mimetype": "text/x-python",
   "name": "python",
   "nbconvert_exporter": "python",
   "pygments_lexer": "ipython3",
   "version": "3.8.8"
  }
 },
 "nbformat": 4,
 "nbformat_minor": 5
}
